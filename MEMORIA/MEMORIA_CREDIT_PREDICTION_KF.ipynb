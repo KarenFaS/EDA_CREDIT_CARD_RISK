{
 "cells": [
  {
   "cell_type": "markdown",
   "metadata": {},
   "source": [
    "![project_logo](https://img.theweek.in/content/dam/week/magazine/theweek/business/images/2023/12/9/54-shutterstock.jpg)"
   ]
  },
  {
   "cell_type": "markdown",
   "metadata": {},
   "source": [
    "## MEMORIA PROYECTO EDA\n",
    "\n",
    "\n",
    ">**TITULO DEL PROYECTO**\\\n",
    " **PREDICCIÓN DEL RIESGO EN LA APROBACIÓN DE TARJETAS DE CRÉDITO.**\n",
    "\n",
    "**Objetivo**\\\n",
    " Realizar el Análisis explotatrio a una base de datos que incluye los registros de solicitudes y el estado de pagos de tarjetas de crédito, con el propósito de determinar qué clientes son más propensos a ser confiables o representar un riesgo financiero.\n",
    "\n",
    "**Hipótesis**\\\n",
    " Existe una correlación estadísticamente significativa entre las características socioeconómicas de los solicitantes de tarjetas de crédito y sus comportamientos de pago. Por consiguiente, se plantea la posibilidad de mitigar los riesgos de incumplimiento a través del análisis exhaustivo de dichas características socioeconómicas.\n",
    "\n",
    "**Obtención de datos**\\\n",
    "https://www.kaggle.com/datasets/rikdifos/credit-card-approval-prediction/data\\\n",
    "\n",
    "* application_record.csv (438557, 18)\n",
    "* credit_record.csv (1048575, 3)\n",
    "\n",
    "\n",
    "\n"
   ]
  },
  {
   "cell_type": "markdown",
   "metadata": {},
   "source": [
    "***\n",
    "**DESCRIPCIÓN DE LAS VARIABLES**\n",
    "\n",
    ">*application_record.csv*\n",
    "\n",
    " `ID` : Numero de cliente\\\n",
    " `CODE_GENDER` : Genero\\\n",
    " `FLAG_OWN_CAR` : Tiene coche\\\n",
    " `FLAG_OWN_REALTY` : Tiene propiedad\\\n",
    " `CNT_CHILDREN` : Cantidad de hijos\\\n",
    " `AMT_INCOME_TOTAL` : Ingresos Anuales\\\n",
    " `NAME_INCOME_TYPE` : Tipo de Ingresos\\\n",
    " `NAME_EDUCATION_TYPE` : Nivel de educación\\\n",
    " `NAME_FAMILY_STATUS` : Estado Civil\\\n",
    " `NAME_HOUSING_TYPE` : Tipo de vivienda\\\n",
    " `DAYS_BIRTH` : Cumpleaños. Cuenta hacia atras desde el dia actual (0), -1 significa el dia anterior\\\n",
    " `DAYS_EMPLOYED` : Inicio de su contratación actual. Cuenta atras desde el dia actual (0). Si el valor es positivo significa tiempo de desempleo\\\n",
    " `FLAG_MOBIL` : Tiene telefono movil\\\n",
    " `FLAG_WORK_PHONE` : Tiene número de telefono del trabajo\\\n",
    " `FLAG_PHONE` : Tiene telefono fijo\\\n",
    " `FLAG_EMAIL` : Tiene correo electronico\\\n",
    " `OCCUPATION_TYPE` : Ocupación\\\n",
    " `CNT_FAM_MEMBERS` : Tamaño de la familia\n",
    "\n",
    ">*credit_record.csv*\n",
    "\n",
    " `ID` : Numero de cliente\\\n",
    " `MONTHS_BALANCE` : Mes de la extracción del data. 0 es el mes actual, -1 el mes anterior.\\\n",
    " `STATUS` : 0: 1-29 dias de vencido, 1: 30-59 dias vencidos, 2: 60-89 dias vencidos, 3: 90-119 dias vencidos, 4: 120-149 dias vencidos, 5: prestamo castigado por mas de 150 dias, C: pagado ese mes, X: Credito no generado.\n"
   ]
  },
  {
   "cell_type": "markdown",
   "metadata": {},
   "source": [
    "***\n",
    "**LIMPIEZA DE DATOS**\n",
    "\n",
    ">*application_record.csv = apl_record*\n",
    "\n",
    "Se inicia cargando cada archivo y visualizando las primeras columnas del df para determinar junto con info() e isnull(), el tipo de datos de las variables y la cantidade de valores NaN en cada columna.\n",
    "\n",
    "Empezamos revisando las columnas relacionadas con los valores nulos (134,203 / 30%), las cuales son `OCCUPATION_TYPE` y `NAME_INCOME_TYPE`, esta segunda como informacion complementaria. Para los valores con NAME_INCOME_TYPE igual a [\"Pensioner\", \"Student\", \"State servant\"], se establecera el mismo concepto para la columa OCCUPATION_TYPE, ya que son tipos de caracteristicas especiales. Para el resto de NaN en esta columna, al analizar el tipo de caracteristicas del grupo, se proceden a etiquetar como OCCUPATION_TYPE \"Not specified\". \n",
    "\n",
    "El`ID`, presenta 47 valores duplicados, se realiza drop, manteniendo el primer valor encontrado,  ya que se interpreta que el segundo valor generado ha duplicado un valor ya existente. \n",
    "\n",
    ">*data_eda*\n",
    "\n",
    "Se realiza merge con los dos archivos de análisis (applicantion_record y cred_record), estableciendo los datos sujetos al EDA. Se nombra la base de datos como data_eda con un shape de [36457, 22].\n",
    "\n",
    "El STATUS DE PAGO se traduce a respuestas booleanas, en una nueva columna llamada \"BAD_DEBTS\", donde 0 es un estatus sin deuda o con una deuda menor de 30 días de mora, y 1 corresponde los clientes que presentan un atraso en sus pagos de más de 30 días. A partir de esta información se determina la fecha de apertura de la cuenta, en donde el valor mínimo es la cantidad de meses de hace cuando la cuenta está vigente, y el numero max, el último mes de observación o mes de cancelación de la cuenta. \n",
    "\n",
    "**VARIABLES CATEGORICAS**\\\n",
    " Cada variable categórica es analizada con un value_counts() y con una grafica de pastel, se observa la distribución de las variables y la diversidad en las categorías de la muestra. En el caso único de FLAG_MOVIL, el 100% de los clientes tienen la misma característica (1), por lo que se elimina la columna. \n",
    "\n",
    "**VARIABLES NUMERICAS**\\\n",
    "Se realizan boxplots e histogramas para analizar los outliers y la distribución de los datos. `CNT_CHILDREN` presenta valores atípicos, se procede a cambiar los valores >7 por 0, que son la media y mediana de la variable.\n",
    "\n",
    "Se recalcula la variable `DAYS_BIRTH`, creando una nueva variable llamada `AGE_YEARS` que detalla la edad en años de los solicitantes. Se realiza drop a DAYS_BRITH.\n",
    "\n",
    "Se recalcula la variable `DAYS_EMPLOYED`, creando una columna de `YEARS_EMPLOYED` cuando el valor es >1 y una columna `YEARS_UNEMPLOYED` para los valores >1. Se ejecutan boxplot, histplot con curva de densidad de ambas variables y se identifica un error unico de en la columna YEARS_UNEMPLOYED equivalente a 1000.67 años, se procede a eliminar todos los valores iguales a esta cifra y la columna queda completamente vacía. Se realiza drop() de las columnas YEARS_UNEMPLOYED y DAYS_EMPLOYED. \n",
    "\n",
    "INCOME_TOTAL presenta outliers muy altos, los valores se encuentran en un rango entre 100,000 y 1,600,000. El porcentaje de los outliers es menos del 0.1%."
   ]
  },
  {
   "cell_type": "markdown",
   "metadata": {},
   "source": [
    "***\n",
    "**ANÁLISIS DE CORRELACIÓN**\n",
    "\n",
    "**CORRELACIÓN DE PEARSON**\n",
    "Con una base de datos que contiene 11.77% de clientes BAD_DEBTS, se hace uso de un heatmap para establecer la correlacion lineal de las variables. Se presenta una correlación alta con las variables como CNT_FAM_MEMBERS-CNT_CHILDREN o CNT_CHILDREN-AGE_YEARS, lo cual nos es irrelevantes para la comprobación de nuestra hipotesis. Para poder identificar nuestra población target [Los clientes que tienen BAD_DEBTS], las correlaciones entre las variables oscilan entre 0.00 y 0.04. Concluyendo que no existe una correlacion lineal entre las variables que nos permita determinar la morosidad de una cartera.\n",
    "\n",
    "**ARBOL DE DECISION**\\\n",
    " Con el objetivo de establecer correlaciones entre variables categoricas se utiliza un Arbol de decisión. Un mapa de los posibles resultados de una serie de decisiones relacionadas. Permite comparar posibles acciones entre sí, según sus costos, probabilidades y beneficios. \n",
    " Realizando este análisis obtenemos como resultado que ACCOUNT_LIFETIME posee una importancia de 0.55 considerando como BAD_DEBTS overdue mayor de 30 dias. Por otra parte, si cambiamos el overdue a mayor de 60 dias, la importancia que obtenemos sobre la misma variable es de 0.23. En ambos casos, el indice de importancia de las demas variables caen desde 0.12.\n",
    "\n",
    "Con lo cual se determina evaluar si realmente este variable puede determinar o pronosticar el rendimiento de una cartera. \n",
    "\n",
    "**ANALISIS DE COSECHAS**\\\n",
    " La metodología del Análisis de Cosechas(vintage analysis) es utilizada para evaluar los resultados de las políticas crediticias de las entidades financieras. Este análisis se refiere al seguimiento en el tiempo del desempeño de los\n",
    "créditos otorgados a un conjunto de individuos en un periodo específico, cuantificando los créditos con atrasos.\n",
    "La cosecha puede deteriorarse en el tiempo de acuerdo a las características de los clientes y a la evolución de la economía.\n",
    "\n",
    "Basados en esta metodologia se concluye que para el caso de estudio, es necesaria una ventana de observación de 20 meses para poder identificar el mayor porcentahe de BAD_DEBTS.\n",
    "\n",
    "\n",
    "\n",
    "\n",
    "\n",
    "\n"
   ]
  }
 ],
 "metadata": {
  "kernelspec": {
   "display_name": "Python 3",
   "language": "python",
   "name": "python3"
  },
  "language_info": {
   "codemirror_mode": {
    "name": "ipython",
    "version": 3
   },
   "file_extension": ".py",
   "mimetype": "text/x-python",
   "name": "python",
   "nbconvert_exporter": "python",
   "pygments_lexer": "ipython3",
   "version": "3.12.2"
  }
 },
 "nbformat": 4,
 "nbformat_minor": 2
}
